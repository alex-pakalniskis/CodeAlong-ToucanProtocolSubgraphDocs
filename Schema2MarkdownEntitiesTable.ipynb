{
  "nbformat": 4,
  "nbformat_minor": 0,
  "metadata": {
    "colab": {
      "name": "Schema2MarkdownEntitiesTable.ipynb",
      "provenance": [],
      "collapsed_sections": [],
      "authorship_tag": "ABX9TyPCBWay5kwuHb/K7DekBfAC",
      "include_colab_link": true
    },
    "kernelspec": {
      "name": "python3",
      "display_name": "Python 3"
    },
    "language_info": {
      "name": "python"
    }
  },
  "cells": [
    {
      "cell_type": "markdown",
      "metadata": {
        "id": "view-in-github",
        "colab_type": "text"
      },
      "source": [
        "<a href=\"https://colab.research.google.com/github/alex-pakalniskis/CodeAlong-ToucanProtocolSubgraphDocs/blob/main/Schema2MarkdownEntitiesTable.ipynb\" target=\"_parent\"><img src=\"https://colab.research.google.com/assets/colab-badge.svg\" alt=\"Open In Colab\"/></a>"
      ]
    },
    {
      "cell_type": "code",
      "source": [
        "import requests\n",
        "from typing import List\n",
        "from IPython.display import Markdown"
      ],
      "metadata": {
        "id": "Asi8sz3ogcCS"
      },
      "execution_count": 402,
      "outputs": []
    },
    {
      "cell_type": "code",
      "source": [
        "class DocumentationGenerator:\n",
        "  \"\"\"Utility to generate Markdown documentation for Subgraph Entities\n",
        "  \n",
        "  Parameters:\n",
        "    ipfs_url: IPFS URL that hosts the schema.graphql file\n",
        "\n",
        "  Attributes:\n",
        "    self.schema: GraphQL schema text, split on \"type \" substring\n",
        "    self.entities: \n",
        "    self.entities_fields: \n",
        "    self.markdown: \n",
        "    \"\"\"\n",
        "  def __init__(self, ipfs_url: str):\n",
        "    self.ipfs_url = ipfs_url\n",
        "    self.schema = []\n",
        "    self.entities = []\n",
        "    self.entities_fields = dict()\n",
        "    self.markdown = \"# Subgraph Entities\\n\"\n",
        "  \n",
        "  def get_schema_data(self) -> None:\n",
        "    \"\"\"Download the GraphQL schema from IPFS into self.schema instance attribute. The schema defines what data is stored in the subgraph and how to query it via GraphQL.\n",
        "    \"\"\"\n",
        "    r = requests.get(self.ipfs_url)\n",
        "    self.schema += r.text.split(\"type \")\n",
        "  \n",
        "  def get_entities(self) -> None:\n",
        "    \"\"\"Parse self.schema GraphQL schema text for entities defined within.\n",
        "    Stores entities found within GraphQL schema in self.entities instance attribute\n",
        "    \"\"\"\n",
        "    for entry in self.schema:\n",
        "      if \"@entity\" not in entry:\n",
        "        pass\n",
        "      else:\n",
        "        self.entities.append(entry.split(\" @entity\")[0])\n",
        "    \n",
        "  def get_entity_fields(self, entity: str) -> List[str]:\n",
        "    \"\"\"Parse a GraphQL schema (self.schema) for fields contained within an entity in self.entities\n",
        "    \n",
        "    Args:\n",
        "      entity: An entity of a GraphQL schema\n",
        "    \n",
        "    Returns: \n",
        "      entity_fields_data: Fields contained within a particular entity of a GraphQL schema\n",
        "    \"\"\"\n",
        "    entity_fields = []\n",
        "    for entry in self.schema:\n",
        "      if not entry.startswith(entity):\n",
        "        pass\n",
        "      else:\n",
        "        entity_data = entry.split(entity + \" \")[1]\n",
        "        entity_data = entity_data.split(\"\\n\")\n",
        "        entity_fields_data = [d.strip() for d in entity_data if d not in [\"@entity {\", \"}\", \"\"]]\n",
        "        return entity_fields_data\n",
        "  \n",
        "  def populate_entity_fields_dictionary(self) -> None:\n",
        "    \"\"\"Parse self.schema for all entities and fields, saving them into a self.entities_fields dictionary\n",
        "    \"\"\"\n",
        "    for entity in self.entities:\n",
        "      entity_fields_data = self.get_entity_fields(entity)\n",
        "      self.entities_fields[entity] = entity_fields_data\n",
        "  \n",
        "  def generate_markdown(self) -> None:\n",
        "      \"\"\"Generate Markdown table depicting Fields and Types of a particular Entity. \n",
        "      Nested types are automatically formated as links to relevant type.\n",
        "      \n",
        "      Returns:\n",
        "        Markdown table deplicting Fields and Types. A Description column is also added for manual update as needed.\n",
        "      \n",
        "      \"\"\"\n",
        "      for i in range(len(self.entities)):\n",
        "        self.markdown += f\"* [{self.entities[i]}](#{self.entities[i].lower()})\\n\"\n",
        "      self.markdown += \"\\n\"\n",
        "\n",
        "      for i in range(len(self.entities)):\n",
        "        self.markdown += f\"## {self.entities[i]}\\n\\n\"\n",
        "        self.markdown += f\"| Field | Type | Description | \\n\"\n",
        "        self.markdown += f\"| --- | --- | --- | \\n \"\n",
        "\n",
        "        field_data = self.entities_fields[self.entities[i]]\n",
        "        for field in field_data:\n",
        "          field_name = field.split(\": \")[0]\n",
        "          field_name = field_name.replace(\" \", \"\")\n",
        "          field_type = field.split(\": \")[1:][0]\n",
        "          if \"@derivedFrom\" in field_type:\n",
        "            field_type = field_type.split(\"@derivedFrom\")[0]\n",
        "          if \"!]!\" in field_type:\n",
        "            field_type = field_type.replace(\"!]!\", f\"!](#{field_type.lower().replace('!', '').replace('[', '').replace(']', '')})\")\n",
        "          elif \"!]\" in field_type:\n",
        "            field_type = field_type.replace(\"!]\", f\"!](#{field_type.lower().replace('!', '').replace('[', '').replace(']', '')})\")\n",
        "          self.markdown += f\"| {field_name} | {field_type} | ... | \\n\"\n",
        "        self.markdown += \"\\n\"\n",
        "  \n",
        "  def save_markdown(self):\n",
        "    \"\"\"Save Subgraph Entity documentation in a Markdown file called SubgraphEntities.md\"\"\"\n",
        "    with open(\"SubgraphEntities.md\", \"w\") as f:\n",
        "      f.write(self.markdown)"
      ],
      "metadata": {
        "id": "idsFFTB8dNEs"
      },
      "execution_count": 476,
      "outputs": []
    },
    {
      "cell_type": "code",
      "source": [
        ""
      ],
      "metadata": {
        "id": "wvBQu4zqTBTa"
      },
      "execution_count": 474,
      "outputs": []
    },
    {
      "cell_type": "code",
      "source": [
        "prog = DocumentationGenerator(\"https://ipfs.io/ipfs/QmYfhR4mZZ7BYYfPM2XgCPV7wJjt1nvSgysoyudDbDGvyt\")\n",
        "prog.get_schema_data()\n",
        "prog.get_entities()\n",
        "prog.populate_entity_fields_dictionary()\n",
        "prog.generate_markdown()\n",
        "prog.save_markdown()\n",
        "Markdown(prog.markdown)"
      ],
      "metadata": {
        "colab": {
          "base_uri": "https://localhost:8080/",
          "height": 1000
        },
        "id": "dgt9CnPRhs0D",
        "outputId": "655e4ddf-e693-41cc-e8de-699ada4b248a"
      },
      "execution_count": 477,
      "outputs": [
        {
          "output_type": "execute_result",
          "data": {
            "text/plain": [
              "<IPython.core.display.Markdown object>"
            ],
            "text/markdown": "# Subgraph Entities\n* [BatchToken](#batchtoken)\n* [BatchComment](#batchcomment)\n* [Project](#project)\n* [ProjectVintage](#projectvintage)\n* [TCO2Token](#tco2token)\n* [TCO2Balance](#tco2balance)\n* [PooledTCO2Token](#pooledtco2token)\n* [Retirement](#retirement)\n* [RetirementCertificate](#retirementcertificate)\n* [Redeem](#redeem)\n* [Deposit](#deposit)\n* [AccessRole](#accessrole)\n* [BridgeTokenRequest](#bridgetokenrequest)\n* [ToucanToken](#toucantoken)\n* [User](#user)\n* [Aggregation](#aggregation)\n\n## BatchToken\n\n| Field | Type | Description | \n| --- | --- | --- | \n | id | ID! | ... | \n| creator | User! | ... | \n| owner | User! | ... | \n| projectVintage | ProjectVintage | ... | \n| serialNumber | String | ... | \n| quantity | BigInt | ... | \n| confirmationStatus | Int! | ... | \n| timestamp | BigInt! | ... | \n| tx | String! | ... | \n| contentURI | String | ... | \n| comments | [BatchComment!](#batchcomment )  | ... | \n| aggregated | Boolean | ... | \n\n## BatchComment\n\n| Field | Type | Description | \n| --- | --- | --- | \n | id | ID! | ... | \n| sender | User | ... | \n| batch | BatchToken! | ... | \n| comment | String! | ... | \n\n## Project\n\n| Field | Type | Description | \n| --- | --- | --- | \n | id | ID! | ... | \n| creator | User! | ... | \n| owner | User! | ... | \n| timestamp | BigInt! | ... | \n| tx | String! | ... | \n| projectId | String! | ... | \n| vintages | [ProjectVintage!](#projectvintage )  | ... | \n| standard | String! | ... | \n| methodology | String | ... | \n| region | String | ... | \n| storageMethod | String | ... | \n| method | String | ... | \n| emissionType | String | ... | \n| category | String | ... | \n| uri | String | ... | \n\n## ProjectVintage\n\n| Field | Type | Description | \n| --- | --- | --- | \n | id | ID! | ... | \n| creator | User! | ... | \n| owner | User! | ... | \n| timestamp | BigInt! | ... | \n| tx | String! | ... | \n| name | String! | ... | \n| startTime | BigInt! | ... | \n| endTime | BigInt! | ... | \n| project | Project | ... | \n| batches | [BatchToken!](#batchtoken )  | ... | \n| totalVintageQuantity | BigInt! | ... | \n| isCorsiaCompliant | Boolean! | ... | \n| isCCPcompliant | Boolean! | ... | \n| coBenefits | String! | ... | \n| correspAdjustment | String! | ... | \n| additionalCertification | String! | ... | \n| issuanceDate | BigInt! | ... | \n| tco2Token | TCO2Token | ... | \n\n## TCO2Token\n\n| Field | Type | Description | \n| --- | --- | --- | \n | id | ID! | ... | \n| creator | User! | ... | \n| createdAt | BigInt! | ... | \n| creationTx | String! | ... | \n| projectVintage | ProjectVintage! | ... | \n| name | String! | ... | \n| symbol | String! | ... | \n| address | String! | ... | \n| score | BigInt! | ... | \n\n## TCO2Balance\n\n| Field | Type | Description | \n| --- | --- | --- | \n | id | ID! | ... | \n| user | User! | ... | \n| token | TCO2Token! | ... | \n| balance | BigInt! | ... | \n\n## PooledTCO2Token\n\n| Field | Type | Description | \n| --- | --- | --- | \n | id | ID! | ... | \n| token | TCO2Token! | ... | \n| poolAddress | String! | ... | \n| amount | BigInt! | ... | \n\n## Retirement\n\n| Field | Type | Description | \n| --- | --- | --- | \n | id | ID! | ... | \n| creationTx | String! | ... | \n| amount | BigInt! | ... | \n| timestamp | BigInt! | ... | \n| token | TCO2Token! | ... | \n| creator | User! | ... | \n| eventId | BigInt! | ... | \n| certificate | RetirementCertificate | ... | \n\n## RetirementCertificate\n\n| Field | Type | Description | \n| --- | --- | --- | \n | id | ID! | ... | \n| creationTx | String! | ... | \n| updateTxs | [String!](#string) | ... | \n| createdAt | BigInt! | ... | \n| retiringEntity | User! | ... | \n| beneficiary | User! | ... | \n| retiringEntityString | String! | ... | \n| beneficiaryString | String! | ... | \n| retirementMessage | String! | ... | \n| retirements | [Retirement!](#retirement )  | ... | \n\n## Redeem\n\n| Field | Type | Description | \n| --- | --- | --- | \n | id | ID! | ... | \n| amount | BigInt! | ... | \n| timestamp | BigInt! | ... | \n| token | TCO2Token! | ... | \n| pool | String! | ... | \n| creator | User! | ... | \n\n## Deposit\n\n| Field | Type | Description | \n| --- | --- | --- | \n | id | ID! | ... | \n| amount | BigInt! | ... | \n| timestamp | BigInt! | ... | \n| token | TCO2Token! | ... | \n| pool | String! | ... | \n| creator | User! | ... | \n\n## AccessRole\n\n| Field | Type | Description | \n| --- | --- | --- | \n | id | ID! | ... | \n| contractAddress | String! | ... | \n| role | Bytes! | ... | \n| member | User! | ... | \n| granted | Boolean! | ... | \n\n## BridgeTokenRequest\n\n| Field | Type | Description | \n| --- | --- | --- | \n | id | ID! | ... | \n| sentTx | String | ... | \n| sentTimestamp | BigInt | ... | \n| receivedTx | String | ... | \n| receivedTimestamp | BigInt | ... | \n| originDomain | BigInt! | ... | \n| toDomain | BigInt! | ... | \n| sentToken | ToucanToken | ... | \n| receivedToken | ToucanToken | ... | \n| bridger | User! | ... | \n| amount | BigInt! | ... | \n| requesthash | Bytes! | ... | \n\n## ToucanToken\n\n| Field | Type | Description | \n| --- | --- | --- | \n | id | ID! | ... | \n| name | String! | ... | \n| symbol | String! | ... | \n| address | String! | ... | \n| decimals | Int! | ... | \n\n## User\n\n| Field | Type | Description | \n| --- | --- | --- | \n | id | ID! | ... | \n| batchesOwned | [BatchToken!](#batchtoken )  | ... | \n| batchesCreated | [BatchToken!](#batchtoken )  | ... | \n| batchComments | [BatchComment!](#batchcomment )  | ... | \n| projectsOwned | [Project!](#project )  | ... | \n| projectsCreated | [Project!](#project )  | ... | \n| vintagesOwned | [ProjectVintage!](#projectvintage )  | ... | \n| vintagesCreated | [ProjectVintage!](#projectvintage )  | ... | \n| retirementsCreated | [Retirement!](#retirement )  | ... | \n| redeemsCreated | [Redeem!](#redeem )  | ... | \n| tokensOwned | [TCO2Balance!](#tco2balance )  | ... | \n| bridgeRequestOwned | [BridgeTokenRequest!](#bridgetokenrequest )  | ... | \n\n## Aggregation\n\n| Field | Type | Description | \n| --- | --- | --- | \n | id | ID! | ... | \n| key | String! | ... | \n| value | BigInt! | ... | \n\n"
          },
          "metadata": {},
          "execution_count": 477
        }
      ]
    },
    {
      "cell_type": "code",
      "source": [
        "from google.colab import files\n",
        "files.download('SubgraphEntities.md') "
      ],
      "metadata": {
        "colab": {
          "base_uri": "https://localhost:8080/",
          "height": 17
        },
        "id": "DAuRpmXnDXGa",
        "outputId": "f53b3e7e-96ce-4933-b367-7a31009b94e0"
      },
      "execution_count": 478,
      "outputs": [
        {
          "output_type": "display_data",
          "data": {
            "text/plain": [
              "<IPython.core.display.Javascript object>"
            ],
            "application/javascript": [
              "\n",
              "    async function download(id, filename, size) {\n",
              "      if (!google.colab.kernel.accessAllowed) {\n",
              "        return;\n",
              "      }\n",
              "      const div = document.createElement('div');\n",
              "      const label = document.createElement('label');\n",
              "      label.textContent = `Downloading \"${filename}\": `;\n",
              "      div.appendChild(label);\n",
              "      const progress = document.createElement('progress');\n",
              "      progress.max = size;\n",
              "      div.appendChild(progress);\n",
              "      document.body.appendChild(div);\n",
              "\n",
              "      const buffers = [];\n",
              "      let downloaded = 0;\n",
              "\n",
              "      const channel = await google.colab.kernel.comms.open(id);\n",
              "      // Send a message to notify the kernel that we're ready.\n",
              "      channel.send({})\n",
              "\n",
              "      for await (const message of channel.messages) {\n",
              "        // Send a message to notify the kernel that we're ready.\n",
              "        channel.send({})\n",
              "        if (message.buffers) {\n",
              "          for (const buffer of message.buffers) {\n",
              "            buffers.push(buffer);\n",
              "            downloaded += buffer.byteLength;\n",
              "            progress.value = downloaded;\n",
              "          }\n",
              "        }\n",
              "      }\n",
              "      const blob = new Blob(buffers, {type: 'application/binary'});\n",
              "      const a = document.createElement('a');\n",
              "      a.href = window.URL.createObjectURL(blob);\n",
              "      a.download = filename;\n",
              "      div.appendChild(a);\n",
              "      a.click();\n",
              "      div.remove();\n",
              "    }\n",
              "  "
            ]
          },
          "metadata": {}
        },
        {
          "output_type": "display_data",
          "data": {
            "text/plain": [
              "<IPython.core.display.Javascript object>"
            ],
            "application/javascript": [
              "download(\"download_7404f263-6ab0-4b54-8432-b7aad77484cd\", \"SubgraphEntities.md\", 5968)"
            ]
          },
          "metadata": {}
        }
      ]
    }
  ]
}